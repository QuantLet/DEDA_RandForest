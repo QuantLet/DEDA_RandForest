{
 "cells": [
  {
   "cell_type": "code",
   "execution_count": 7,
   "id": "5e365e48",
   "metadata": {},
   "outputs": [],
   "source": [
    "import pandas as pd\n",
    "import numpy as np\n",
    "import matplotlib.pyplot as plt\n",
    "import seaborn as sns\n",
    "from sklearn.model_selection import train_test_split\n",
    "from sklearn.tree import DecisionTreeClassifier, plot_tree\n",
    "from sklearn.ensemble import RandomForestClassifier\n",
    "from sklearn.metrics import roc_curve, auc, roc_auc_score\n",
    "from sklearn.preprocessing import LabelEncoder\n",
    "import warnings\n",
    "warnings.filterwarnings('ignore')\n",
    "\n",
    "# Set style for transparent plots\n",
    "plt.style.use('default')\n",
    "plt.rcParams['figure.facecolor'] = 'none'\n",
    "plt.rcParams['axes.facecolor'] = 'none'\n",
    "plt.rcParams['savefig.facecolor'] = 'none'\n",
    "\n",
    "# Load data\n",
    "file = \"data_sample.csv\"\n",
    "varnames = [\n",
    "    \"Cash\", \"Inventories\", \"Current Assets\", \"Tangible Assets\", \"Intangible Assets\", \"Total Assets\",\n",
    "    \"Accounts Receivable\", \"Lands and Buildings\", \"Equity\", \"Accrual for Pension Liabilities\",\n",
    "    \"Total Current Liabilities\", \"Total Longterm Liabilities\", \"Bank Debt\", \"Accounts Payable\",\n",
    "    \"Sales\", \"Amortization Depreciation\", \"Interest Expenses\", \"EBIT\", \"Operating Income\",\n",
    "    \"Net Income\", \"Increase Inventories\", \"Increase Liabilities\", \"Increase Cash\", \"Number Employees\",\n",
    "    \"Solvency\"\n",
    "]\n",
    "\n",
    "# Read data and convert all columns to numeric\n",
    "credit = pd.read_csv(file, header=None, names=varnames)\n",
    "\n",
    "# Convert all columns to numeric, forcing errors to NaN\n",
    "for col in credit.columns:\n",
    "    credit[col] = pd.to_numeric(credit[col], errors='coerce')\n",
    "\n",
    "# Drop rows with any NaN values\n",
    "credit = credit.dropna()"
   ]
  },
  {
   "cell_type": "code",
   "execution_count": 9,
   "id": "85eda059",
   "metadata": {},
   "outputs": [
    {
     "name": "stdout",
     "output_type": "stream",
     "text": [
      "Training set size: (3500, 25)\n",
      "Test set size: (1500, 25)\n"
     ]
    }
   ],
   "source": [
    "# Convert Solvency to categorical (binary)\n",
    "credit['Solvency'] = credit['Solvency'].astype('category')\n",
    "\n",
    "# Split data into train and test (70/30)\n",
    "train_df, test_df = train_test_split(credit, test_size=0.3, random_state=42, stratify=credit['Solvency'])\n",
    "\n",
    "print(f\"Training set size: {train_df.shape}\")\n",
    "print(f\"Test set size: {test_df.shape}\")"
   ]
  },
  {
   "cell_type": "markdown",
   "id": "fbd22a07",
   "metadata": {},
   "source": [
    "**CART**"
   ]
  },
  {
   "cell_type": "code",
   "execution_count": 28,
   "id": "2bf41560",
   "metadata": {},
   "outputs": [
    {
     "name": "stdout",
     "output_type": "stream",
     "text": [
      "CART AUC: 0.907\n"
     ]
    }
   ],
   "source": [
    "X_train = train_df.drop('Solvency', axis=1)\n",
    "y_train = train_df['Solvency']\n",
    "X_test = test_df.drop('Solvency', axis=1)\n",
    "y_test = test_df['Solvency']\n",
    "\n",
    "tree_model = DecisionTreeClassifier(max_depth=100, random_state=42)\n",
    "tree_model.fit(X_train, y_train)\n",
    "\n",
    "# Predict probabilities\n",
    "fit_tree = tree_model.predict_proba(X_test)[:, 1]\n",
    "\n",
    "# ROC curve for Decision Tree\n",
    "fpr_tree, tpr_tree, _ = roc_curve(y_test, fit_tree)\n",
    "roc_auc_tree = auc(fpr_tree, tpr_tree)\n",
    "\n",
    "# Plot ROC curve for CART\n",
    "plt.figure(figsize=(6, 6))\n",
    "plt.plot(fpr_tree, tpr_tree, label=f'(AUC = {roc_auc_tree:.3f})')\n",
    "plt.xlabel('False Positive Rate')\n",
    "plt.ylabel('True Positive Rate')\n",
    "plt.legend(loc='lower right')\n",
    "plt.grid(False)  # No grid\n",
    "plt.savefig('ROC_CART.png', transparent=True)\n",
    "plt.close()\n",
    "\n",
    "print(f\"CART AUC: {roc_auc_tree:.3f}\")"
   ]
  },
  {
   "cell_type": "markdown",
   "id": "bd159995",
   "metadata": {},
   "source": [
    "**Random Forest**"
   ]
  },
  {
   "cell_type": "code",
   "execution_count": 29,
   "id": "b8a47ad6",
   "metadata": {},
   "outputs": [
    {
     "name": "stdout",
     "output_type": "stream",
     "text": [
      "Random Forest AUC: 0.986\n"
     ]
    }
   ],
   "source": [
    "# Second Model: Random Forest\n",
    "rf_model = RandomForestClassifier(random_state=42)\n",
    "rf_model.fit(X_train, y_train)\n",
    "\n",
    "fit_rf = rf_model.predict_proba(X_test)[:, 1]\n",
    "\n",
    "# ROC curve for Random Forest\n",
    "fpr_rf, tpr_rf, _ = roc_curve(y_test, fit_rf)\n",
    "roc_auc_rf = auc(fpr_rf, tpr_rf)\n",
    "\n",
    "# Plot ROC curve for RF\n",
    "plt.figure(figsize=(6, 6))\n",
    "plt.plot(fpr_rf, tpr_rf, label=f'(AUC = {roc_auc_rf:.3f})')\n",
    "plt.xlabel('False Positive Rate')\n",
    "plt.ylabel('True Positive Rate')\n",
    "plt.legend(loc='lower right')\n",
    "plt.grid(False)  # No grid\n",
    "plt.savefig('ROC_RF.png', transparent=True)\n",
    "plt.close()\n",
    "\n",
    "print(f\"Random Forest AUC: {roc_auc_rf:.3f}\")"
   ]
  },
  {
   "cell_type": "code",
   "execution_count": null,
   "id": "b9033b50",
   "metadata": {},
   "outputs": [
    {
     "name": "stdout",
     "output_type": "stream",
     "text": [
      "\n",
      "Resampling Results Summary:\n",
      "Mean CART AUC: 0.908\n",
      "Mean RF AUC: 0.983\n",
      "CART AUC Std: 0.009\n",
      "RF AUC Std: 0.003\n",
      "RF outperforms CART in 100.0% of cases\n"
     ]
    }
   ],
   "source": [
    "# Resampling function (equivalent to AUC function in R)\n",
    "def calculate_aucs(i):\n",
    "    # Set random seed\n",
    "    np.random.seed(i)\n",
    "    \n",
    "    # Split data\n",
    "    train_df_temp, test_df_temp = train_test_split(credit, test_size=0.3, random_state=i, stratify=credit['Solvency'])\n",
    "    \n",
    "    X_train_temp = train_df_temp.drop('Solvency', axis=1)\n",
    "    y_train_temp = train_df_temp['Solvency']\n",
    "    X_test_temp = test_df_temp.drop('Solvency', axis=1)\n",
    "    y_test_temp = test_df_temp['Solvency']\n",
    "    \n",
    "    # Decision Tree\n",
    "    tree_temp = DecisionTreeClassifier(random_state=i)\n",
    "    tree_temp.fit(X_train_temp, y_train_temp)\n",
    "    fit_tree_temp = tree_temp.predict_proba(X_test_temp)[:, 1]\n",
    "    auc_tree = roc_auc_score(y_test_temp, fit_tree_temp)\n",
    "    \n",
    "    # Random Forest\n",
    "    rf_temp = RandomForestClassifier(random_state=i)\n",
    "    rf_temp.fit(X_train_temp, y_train_temp)\n",
    "    fit_rf_temp = rf_temp.predict_proba(X_test_temp)[:, 1]\n",
    "    auc_rf = roc_auc_score(y_test_temp, fit_rf_temp)\n",
    "    \n",
    "    return auc_tree, auc_rf\n",
    "\n",
    "# Run resampling 200 times\n",
    "results = []\n",
    "for i in range(200):\n",
    "    auc_tree, auc_rf = calculate_aucs(i)\n",
    "    results.append((auc_tree, auc_rf))\n",
    "\n",
    "# Convert to DataFrame\n",
    "results_df = pd.DataFrame(results, columns=['CART_AUC', 'RF_AUC'])\n",
    "\n",
    "# Summary statistics\n",
    "print(\"\\nResampling Results Summary:\")\n",
    "print(f\"Mean CART AUC: {results_df['CART_AUC'].mean():.3f}\")\n",
    "print(f\"Mean RF AUC: {results_df['RF_AUC'].mean():.3f}\")\n",
    "print(f\"CART AUC Std: {results_df['CART_AUC'].std():.3f}\")\n",
    "print(f\"RF AUC Std: {results_df['RF_AUC'].std():.3f}\")\n",
    "print(f\"RF outperforms CART in {((results_df['RF_AUC'] > results_df['CART_AUC']).sum() / 200 * 100):.1f}% of cases\")"
   ]
  },
  {
   "cell_type": "code",
   "execution_count": 34,
   "id": "94672056",
   "metadata": {},
   "outputs": [],
   "source": [
    "# Create comparison scatter plot (no grid) - perfectly square\n",
    "fig, ax = plt.subplots(figsize=(6, 6))\n",
    "ax.scatter(results_df['CART_AUC'], results_df['RF_AUC'], alpha=0.6)\n",
    "ax.plot([0.7, 1.0], [0.7, 1.0], 'r--', alpha=0.8)\n",
    "ax.set_xlabel('CART (AUC)')\n",
    "ax.set_ylabel('Random Forest (AUC)')\n",
    "ax.set_xlim(0.7, 1.0)\n",
    "ax.set_ylim(0.7, 1.0)\n",
    "ax.grid(False)  # No grid\n",
    "\n",
    "# This ensures perfect square aspect ratio\n",
    "ax.set_box_aspect(1)\n",
    "\n",
    "plt.tight_layout()\n",
    "plt.savefig('Resampling_RF_vs_CART.png', transparent=True, dpi=300, bbox_inches='tight')\n",
    "plt.close()"
   ]
  }
 ],
 "metadata": {
  "kernelspec": {
   "display_name": "Python 3",
   "language": "python",
   "name": "python3"
  },
  "language_info": {
   "codemirror_mode": {
    "name": "ipython",
    "version": 3
   },
   "file_extension": ".py",
   "mimetype": "text/x-python",
   "name": "python",
   "nbconvert_exporter": "python",
   "pygments_lexer": "ipython3",
   "version": "3.12.3"
  }
 },
 "nbformat": 4,
 "nbformat_minor": 5
}
