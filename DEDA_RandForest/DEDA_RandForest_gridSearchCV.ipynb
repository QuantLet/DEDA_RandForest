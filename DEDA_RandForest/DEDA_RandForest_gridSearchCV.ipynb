{
 "cells": [
  {
   "cell_type": "markdown",
   "metadata": {},
   "source": [
    "# Random Forest"
   ]
  },
  {
   "cell_type": "code",
   "execution_count": 10,
   "metadata": {},
   "outputs": [],
   "source": [
    "import pandas as pd\n",
    "from sklearn.model_selection import train_test_split, GridSearchCV\n",
    "from sklearn.ensemble import RandomForestRegressor\n",
    "from sklearn.metrics import mean_squared_error, mean_absolute_error, r2_score\n",
    "from sklearn.tree import export_graphviz\n",
    "from sklearn.datasets import load_breast_cancer,load_iris,load_wine\n",
    "from sklearn.metrics import confusion_matrix\n",
    "from sklearn.compose import ColumnTransformer\n",
    "from sklearn.preprocessing import OneHotEncoder, StandardScaler\n",
    "from sklearn.pipeline import Pipeline\n",
    "import matplotlib.pyplot as plt\n",
    "import matplotlib.image as mpimg\n",
    "import numpy as np\n",
    "import pydot\n",
    "%matplotlib inline"
   ]
  },
  {
   "cell_type": "code",
   "execution_count": 2,
   "metadata": {},
   "outputs": [],
   "source": [
    "#load data\n",
    "df = pd.read_csv('AmesHousing.csv')\n",
    "\n",
    "# Separate features and target (SalePrice is the target variable)\n",
    "X = df.drop(columns=['SalePrice'])\n",
    "y = df['SalePrice']"
   ]
  },
  {
   "cell_type": "code",
   "execution_count": 3,
   "metadata": {},
   "outputs": [],
   "source": [
    "X_train, X_test, y_train, y_test = train_test_split(\n",
    "    X,  # Features (already separated from target)\n",
    "    y,  # Target variable (SalePrice)\n",
    "    test_size=0.33,  # 33% of data for testing\n",
    "    random_state=42  # Setting random seed for reproducibility\n",
    ")"
   ]
  },
  {
   "cell_type": "markdown",
   "metadata": {},
   "source": [
    "## Grid Search with CV\n",
    "Defining paramter grid for GridSearchCV and setting up RandomForestClassifier."
   ]
  },
  {
   "cell_type": "code",
   "execution_count": null,
   "metadata": {},
   "outputs": [],
   "source": [
    "# Identify categorical and numerical columns (assuming X_train is your training data)\n",
    "categorical_cols = X_train.select_dtypes(include=['object', 'category']).columns.tolist()\n",
    "numerical_cols = X_train.select_dtypes(include=[np.number]).columns.tolist()\n",
    "\n",
    "print(f\"Categorical features: {categorical_cols}\")\n",
    "print(f\"Numerical features: {numerical_cols}\")\n",
    "\n",
    "# Create preprocessing pipelines for both data types\n",
    "preprocessor = ColumnTransformer(\n",
    "    transformers=[\n",
    "        ('num', StandardScaler(), numerical_cols),  # Scale numerical features\n",
    "        ('cat', OneHotEncoder(handle_unknown='ignore', sparse_output=False), categorical_cols)  # One-hot encode categoricals\n",
    "    ])\n",
    "\n",
    "# Now proceed with your grid search\n",
    "param_grid = {\n",
    "    'max_depth': np.arange(1,11,3),\n",
    "    'n_estimators': [5,15,20,30,40,50,75,100],\n",
    "    'max_features': np.arange(5,15,5)\n",
    "}\n",
    "\n",
    "# Create the Random Forest regressor with OOB\n",
    "rf = RandomForestRegressor(\n",
    "    bootstrap=True,\n",
    "    oob_score=True,\n",
    "    random_state=42\n",
    ")\n",
    "\n",
    "# Create pipeline that includes preprocessing\n",
    "rf_pipeline = Pipeline([\n",
    "    ('preprocessor', preprocessor),\n",
    "    ('regressor', rf)\n",
    "])\n",
    "\n",
    "# Update parameter grid for pipeline (add 'regressor__' prefix)\n",
    "pipeline_param_grid = {\n",
    "    f'regressor__{key}': value for key, value in param_grid.items()\n",
    "}\n",
    "\n",
    "grid_search = GridSearchCV(\n",
    "    estimator=rf_pipeline,\n",
    "    param_grid=pipeline_param_grid,\n",
    "    cv=4,\n",
    "    n_jobs=-1,\n",
    "    verbose=1,\n",
    "    refit=True\n",
    ")\n",
    "\n",
    "# Fit with raw data - pipeline will handle encoding automatically\n",
    "print(\"Starting grid search with preprocessing...\")\n",
    "grid_search.fit(X_train, y_train)\n",
    "\n",
    "print('\\n' + '='*60)\n",
    "print('GRID SEARCH RESULTS')\n",
    "print('='*60)\n",
    "\n",
    "print(f\"Best parameters: {grid_search.best_params_}\")\n",
    "print(f\"Best cross-validation score: {grid_search.best_score_:.4f}\")"
   ]
  },
  {
   "cell_type": "markdown",
   "metadata": {},
   "source": [
    "Best parameter setting in the grid:"
   ]
  },
  {
   "cell_type": "code",
   "execution_count": 12,
   "metadata": {},
   "outputs": [
    {
     "name": "stdout",
     "output_type": "stream",
     "text": [
      "{'regressor__max_depth': np.int64(10), 'regressor__max_features': np.int64(10), 'regressor__n_estimators': 75}\n"
     ]
    }
   ],
   "source": [
    "print(grid_search.best_params_)"
   ]
  }
 ],
 "metadata": {
  "kernelspec": {
   "display_name": "Python 3",
   "language": "python",
   "name": "python3"
  },
  "language_info": {
   "codemirror_mode": {
    "name": "ipython",
    "version": 3
   },
   "file_extension": ".py",
   "mimetype": "text/x-python",
   "name": "python",
   "nbconvert_exporter": "python",
   "pygments_lexer": "ipython3",
   "version": "3.12.3"
  }
 },
 "nbformat": 4,
 "nbformat_minor": 2
}
